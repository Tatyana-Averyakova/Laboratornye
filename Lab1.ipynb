{
  "nbformat": 4,
  "nbformat_minor": 0,
  "metadata": {
    "colab": {
      "provenance": [],
      "authorship_tag": "ABX9TyPE4t6GVEwSNEkhxHIj0+j5",
      "include_colab_link": true
    },
    "kernelspec": {
      "name": "python3",
      "display_name": "Python 3"
    },
    "language_info": {
      "name": "python"
    }
  },
  "cells": [
    {
      "cell_type": "markdown",
      "metadata": {
        "id": "view-in-github",
        "colab_type": "text"
      },
      "source": [
        "<a href=\"https://colab.research.google.com/github/Tatyana-Averyakova/Laboratornye/blob/main/Lab1.ipynb\" target=\"_parent\"><img src=\"https://colab.research.google.com/assets/colab-badge.svg\" alt=\"Open In Colab\"/></a>"
      ]
    },
    {
      "cell_type": "code",
      "source": [
        "print(\"Добро пожаловать в конвертер величин\")\n",
        "print(\"Я могу преобразовать различные единицы измерения\")\n",
        "\n",
        "while True:\n",
        "    print(\"Выберите тип конвертации\")\n",
        "    print(\"1. Метры в километры\")\n",
        "    print(\"2. Километры в метры\")\n",
        "    print(\"3. Градусы Цельсия в Фаренгейты\")\n",
        "    print(\"4. Сантимертры в дециметры\")\n",
        "    print(\"5. Килограммы в фунты\")\n",
        "\n",
        "    print(\"0. Выход\")\n",
        "\n",
        "\n",
        "    value = float(input(\"Введите число для конвертации: \"))\n",
        "\n",
        "    choice = str(input(\"Введите номер операции: \")).strip()\n",
        "\n",
        "\n",
        "\n",
        "    match choice:\n",
        "        case \"1\":\n",
        "            result = value / 1000  # перевод из метров в километры\n",
        "            print(f\"{value}м = {result}км\")\n",
        "    match choice:\n",
        "         case \"2\":\n",
        "             result = value * 1000\n",
        "             print(f\"{value}км = {result} м\")\n",
        "    match choice:\n",
        "         case \"3\":\n",
        "              result = (value * 9/5) + 32\n",
        "              print(f\"{value} C = {result} F\")\n",
        "    match choice:\n",
        "         case \"4\":\n",
        "             result = value / 10\n",
        "             print(f\"{value} см = {result} дм\")\n",
        "    match choice:\n",
        "         case \"5\":\n",
        "             result = value * 2.20462\n",
        "             print(f\"{value} кг = {result} фунтов\")\n",
        "\n",
        "    match choice:\n",
        "        case \"0\":\n",
        "            print(\"До свидания!\")\n",
        "            break"
      ],
      "metadata": {
        "id": "h6yagL_C7TcV"
      },
      "execution_count": null,
      "outputs": []
    }
  ]
}