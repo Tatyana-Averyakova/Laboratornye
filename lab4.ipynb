{
  "nbformat": 4,
  "nbformat_minor": 0,
  "metadata": {
    "colab": {
      "provenance": [],
      "authorship_tag": "ABX9TyNs2vY3F0rzPL4+KvOJjlLb",
      "include_colab_link": true
    },
    "kernelspec": {
      "name": "python3",
      "display_name": "Python 3"
    },
    "language_info": {
      "name": "python"
    }
  },
  "cells": [
    {
      "cell_type": "markdown",
      "metadata": {
        "id": "view-in-github",
        "colab_type": "text"
      },
      "source": [
        "<a href=\"https://colab.research.google.com/github/Tatyana-Averyakova/Laboratornye/blob/main/lab4.ipynb\" target=\"_parent\"><img src=\"https://colab.research.google.com/assets/colab-badge.svg\" alt=\"Open In Colab\"/></a>"
      ]
    },
    {
      "cell_type": "markdown",
      "source": [
        "# Лабораторная работа №4.\n",
        "\n",
        "Пользователь вводит три длины отрезка. Программа проверяет, могут ли они образовать прямоугольный треугольник."
      ],
      "metadata": {
        "id": "_ORfJUc4La7h"
      }
    },
    {
      "cell_type": "code",
      "source": [
        "# Функция для ввода целых чисел\n",
        "def input_int(message):\n",
        "  while True:\n",
        "    user_input = input(message)\n",
        "    # если ввели целое число\n",
        "    if user_input.isnumeric():\n",
        "      input_int = int(user_input)\n",
        "      if input_int == 0:\n",
        "        print(\"Длина отрезка не может быть равна 0. Попробуйте снова!\")\n",
        "        continue\n",
        "      # выход из цикла, возвращаем значение из функции\n",
        "      return input_int\n",
        "    else:\n",
        "      # иначе ошибка\n",
        "      print(\"Вы ввели не целое число. Попробуйте снова!\")\n",
        "\n",
        "  # Проверяет, можно ли из трех отрезков построить прямоугольный треугольник\n",
        "def can_be_right_triangle(a, b, c):\n",
        "    sides = sorted([a, b, c])\n",
        "    hypotenuse = max(sides)\n",
        "    sides.remove(hypotenuse)\n",
        "    return hypotenuse**2 == sides[0]**2 + sides[1]**2\n",
        "\n",
        "a = input_int(\"Введите длину первого отрезка: \")\n",
        "b = input_int(\"Введите длину второго отрезка: \")\n",
        "c = input_int(\"Введите длину третьего отрезка: \")\n",
        "\n",
        "print(f\"Длина первого отрезка = {a}, длина второго отрезка = {b}, длина третьего отрезка = {c}\")\n",
        "\n",
        "if can_be_right_triangle(a, b, c):\n",
        "  print(\"Из введенных отрезков МОЖНО построить прямоугольный треугольник\")\n",
        "else:\n",
        "  print(\"Из введенных отрезков НЕЛЬЗЯ построить прямоугольный треугольник\")\n"
      ],
      "metadata": {
        "id": "jqDXMO21LcHp"
      },
      "execution_count": null,
      "outputs": []
    }
  ]
}