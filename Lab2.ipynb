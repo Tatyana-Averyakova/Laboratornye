{
  "nbformat": 4,
  "nbformat_minor": 0,
  "metadata": {
    "colab": {
      "provenance": [],
      "authorship_tag": "ABX9TyOrvJsRrfJrN4qx9J1AJFIj",
      "include_colab_link": true
    },
    "kernelspec": {
      "name": "python3",
      "display_name": "Python 3"
    },
    "language_info": {
      "name": "python"
    }
  },
  "cells": [
    {
      "cell_type": "markdown",
      "metadata": {
        "id": "view-in-github",
        "colab_type": "text"
      },
      "source": [
        "<a href=\"https://colab.research.google.com/github/Tatyana-Averyakova/Laboratornye/blob/main/Lab2.ipynb\" target=\"_parent\"><img src=\"https://colab.research.google.com/assets/colab-badge.svg\" alt=\"Open In Colab\"/></a>"
      ]
    },
    {
      "cell_type": "markdown",
      "source": [
        "#Лабораторная работа 2: Диагностический помощник\n",
        "\n",
        "**Выполнила:** Аверьякова Татьяна\n",
        "\n",
        "**Дата:** 13.10.2025\n",
        "\n",
        "###Этот ноутбук имитирует простую диагностическую систему, сочетающую:\n",
        "- количественную оценку (балл по шкале тревоги),\n",
        "- качественный анализ текста (эмоциональные маркеры)\n",
        "\n",
        "\n",
        "**Анализ уровня тревоги по шкале Спилберга**\n",
        "\n",
        "Пользователь вводит:\n",
        "\n",
        "- свое имя (строка),\n",
        "- балл по шкале тревоги (целое число от  20 до 80).\n",
        "\n",
        "Программа должна:\n",
        "\n",
        "1. Определить уровень тревоги:\n",
        "\n",
        " - ≤ 30 → \"низкий\",\n",
        "\n",
        " - 31-44 → \"умеренный\",\n",
        "\n",
        " - ≥ 45 → \"высокий\".\n",
        "\n",
        "2. Вывести персонализированное сообщение.\n",
        "\n",
        "**Анализ текста на наличие тревожных маркеров**\n",
        "\n",
        "Пользователь вводит одно предложение.\n",
        "\n",
        "Программа проверяет, содержит ли текст ключевые слова:\n",
        "\n",
        "- \"тревога\", \"страх\", \"боюсь\", \"паника\" → тревожные маркеры\n",
        "- \"надежда\", \"спокойствие\", \"радость\" → позитивные маркеры\n",
        "\n",
        "**Выдать итоговую оценку**\n",
        "\n",
        "- Если уровень тревоги высокий ИЛИ есть тревожные маркеры без позитивных → \"Рекомендуется срочная психологическая поддержка\"\n",
        "- Если есть позитивные маркеры → \"Состояние хорошее\"\n",
        "- Иначе → \"Состояние в пределах ожидаемого. Продолжайте наблюдение.\""
      ],
      "metadata": {
        "id": "-DEq10PstKRN"
      }
    },
    {
      "cell_type": "code",
      "source": [
        "#Ввод данных\n",
        "name = input(\"Введите ваше имя: \")\n",
        "message = input(\"Как вы себя чувствуете?: \")\n",
        "alarm = int(input(\"Шкала тревоги (20-80): \"))\n",
        "\n",
        "\n",
        "print(\"\\n\")\n",
        "print(\"=\" * 20)\n",
        "print(\"Результат уровня тревоги\")\n",
        "print(\"=\" * 20)\n",
        "print(f\"Имя: {name}\")\n",
        "print(f\"Сообщение: {message}\")\n",
        "\n",
        "print(\"Анализ маркеров текста\")\n",
        "\n",
        "has_anxiety = (\n",
        "    \"тревога\" in message or\n",
        "    \"страх\" in message or\n",
        "    \"боюсь\" in message or\n",
        "    \"паника\" in message\n",
        ")\n",
        "\n",
        "has_positive = (\n",
        "    \"надежда\" in message or\n",
        "    \"спокойствие\" in message or\n",
        "    \"радость\" in message\n",
        ")\n",
        "\n",
        "if has_anxiety and not has_positive:\n",
        "  print(\"Обнаружены признаки тревоги\")\n",
        "elif has_positive and not has_anxiety:\n",
        "  print(\"Текст имеет позитивную окраску\")\n",
        "else:\n",
        "  print(\"Смешанные или нейтральные эмоции\")\n",
        "\n",
        "print(\"Анализ уровня тревоги\")\n",
        "\n",
        "if alarm >= 45:\n",
        "  alarm_level = \"высокий\"\n",
        "elif 31-44:\n",
        "  alarm_level = \"умеренный\"\n",
        "else:\n",
        "  alarm_level = \"низкий\"\n",
        "\n",
        "print(f\"Уровень тревоги: {alarm} -> {alarm_level}\")\n",
        "print(\"ИТОГ\")\n",
        "\n",
        "if has_anxiety or alarm >=45:\n",
        "  print(\"Рекомендуется срочная психологическая поддержка\")\n",
        "elif has_positive or alarm <=30:\n",
        "  print(\"Состояние хорошее\")\n",
        "else:\n",
        "  print(\"Состояние в пределах ожидаемого. Продолжайте наблюдение\")"
      ],
      "metadata": {
        "colab": {
          "base_uri": "https://localhost:8080/",
          "height": 356
        },
        "id": "-hhHJ224zSVQ",
        "outputId": "79e03037-dfb2-4b0c-e82c-3c1233fad9bd"
      },
      "execution_count": 5,
      "outputs": [
        {
          "output_type": "error",
          "ename": "KeyboardInterrupt",
          "evalue": "Interrupted by user",
          "traceback": [
            "\u001b[0;31m---------------------------------------------------------------------------\u001b[0m",
            "\u001b[0;31mKeyboardInterrupt\u001b[0m                         Traceback (most recent call last)",
            "\u001b[0;32m/tmp/ipython-input-2986392564.py\u001b[0m in \u001b[0;36m<cell line: 0>\u001b[0;34m()\u001b[0m\n\u001b[1;32m      1\u001b[0m \u001b[0;31m#Ввод данных\u001b[0m\u001b[0;34m\u001b[0m\u001b[0;34m\u001b[0m\u001b[0m\n\u001b[0;32m----> 2\u001b[0;31m \u001b[0mname\u001b[0m \u001b[0;34m=\u001b[0m \u001b[0minput\u001b[0m\u001b[0;34m(\u001b[0m\u001b[0;34m\"Введите ваше имя: \"\u001b[0m\u001b[0;34m)\u001b[0m\u001b[0;34m\u001b[0m\u001b[0;34m\u001b[0m\u001b[0m\n\u001b[0m\u001b[1;32m      3\u001b[0m \u001b[0mmessage\u001b[0m \u001b[0;34m=\u001b[0m \u001b[0minput\u001b[0m\u001b[0;34m(\u001b[0m\u001b[0;34m\"Как вы себя чувствуете?: \"\u001b[0m\u001b[0;34m)\u001b[0m\u001b[0;34m\u001b[0m\u001b[0;34m\u001b[0m\u001b[0m\n\u001b[1;32m      4\u001b[0m \u001b[0malarm\u001b[0m \u001b[0;34m=\u001b[0m \u001b[0mint\u001b[0m\u001b[0;34m(\u001b[0m\u001b[0minput\u001b[0m\u001b[0;34m(\u001b[0m\u001b[0;34m\"Шкала тревоги (20-80): \"\u001b[0m\u001b[0;34m)\u001b[0m\u001b[0;34m)\u001b[0m\u001b[0;34m\u001b[0m\u001b[0;34m\u001b[0m\u001b[0m\n\u001b[1;32m      5\u001b[0m \u001b[0;34m\u001b[0m\u001b[0m\n",
            "\u001b[0;32m/usr/local/lib/python3.12/dist-packages/ipykernel/kernelbase.py\u001b[0m in \u001b[0;36mraw_input\u001b[0;34m(self, prompt)\u001b[0m\n\u001b[1;32m   1175\u001b[0m                 \u001b[0;34m\"raw_input was called, but this frontend does not support input requests.\"\u001b[0m\u001b[0;34m\u001b[0m\u001b[0;34m\u001b[0m\u001b[0m\n\u001b[1;32m   1176\u001b[0m             )\n\u001b[0;32m-> 1177\u001b[0;31m         return self._input_request(\n\u001b[0m\u001b[1;32m   1178\u001b[0m             \u001b[0mstr\u001b[0m\u001b[0;34m(\u001b[0m\u001b[0mprompt\u001b[0m\u001b[0;34m)\u001b[0m\u001b[0;34m,\u001b[0m\u001b[0;34m\u001b[0m\u001b[0;34m\u001b[0m\u001b[0m\n\u001b[1;32m   1179\u001b[0m             \u001b[0mself\u001b[0m\u001b[0;34m.\u001b[0m\u001b[0m_parent_ident\u001b[0m\u001b[0;34m[\u001b[0m\u001b[0;34m\"shell\"\u001b[0m\u001b[0;34m]\u001b[0m\u001b[0;34m,\u001b[0m\u001b[0;34m\u001b[0m\u001b[0;34m\u001b[0m\u001b[0m\n",
            "\u001b[0;32m/usr/local/lib/python3.12/dist-packages/ipykernel/kernelbase.py\u001b[0m in \u001b[0;36m_input_request\u001b[0;34m(self, prompt, ident, parent, password)\u001b[0m\n\u001b[1;32m   1217\u001b[0m             \u001b[0;32mexcept\u001b[0m \u001b[0mKeyboardInterrupt\u001b[0m\u001b[0;34m:\u001b[0m\u001b[0;34m\u001b[0m\u001b[0;34m\u001b[0m\u001b[0m\n\u001b[1;32m   1218\u001b[0m                 \u001b[0;31m# re-raise KeyboardInterrupt, to truncate traceback\u001b[0m\u001b[0;34m\u001b[0m\u001b[0;34m\u001b[0m\u001b[0m\n\u001b[0;32m-> 1219\u001b[0;31m                 \u001b[0;32mraise\u001b[0m \u001b[0mKeyboardInterrupt\u001b[0m\u001b[0;34m(\u001b[0m\u001b[0;34m\"Interrupted by user\"\u001b[0m\u001b[0;34m)\u001b[0m \u001b[0;32mfrom\u001b[0m \u001b[0;32mNone\u001b[0m\u001b[0;34m\u001b[0m\u001b[0;34m\u001b[0m\u001b[0m\n\u001b[0m\u001b[1;32m   1220\u001b[0m             \u001b[0;32mexcept\u001b[0m \u001b[0mException\u001b[0m\u001b[0;34m:\u001b[0m\u001b[0;34m\u001b[0m\u001b[0;34m\u001b[0m\u001b[0m\n\u001b[1;32m   1221\u001b[0m                 \u001b[0mself\u001b[0m\u001b[0;34m.\u001b[0m\u001b[0mlog\u001b[0m\u001b[0;34m.\u001b[0m\u001b[0mwarning\u001b[0m\u001b[0;34m(\u001b[0m\u001b[0;34m\"Invalid Message:\"\u001b[0m\u001b[0;34m,\u001b[0m \u001b[0mexc_info\u001b[0m\u001b[0;34m=\u001b[0m\u001b[0;32mTrue\u001b[0m\u001b[0;34m)\u001b[0m\u001b[0;34m\u001b[0m\u001b[0;34m\u001b[0m\u001b[0m\n",
            "\u001b[0;31mKeyboardInterrupt\u001b[0m: Interrupted by user"
          ]
        }
      ]
    }
  ]
}