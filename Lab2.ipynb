{
  "nbformat": 4,
  "nbformat_minor": 0,
  "metadata": {
    "colab": {
      "provenance": [],
      "authorship_tag": "ABX9TyPtkOFH7xUDgeLduhRCuanq",
      "include_colab_link": true
    },
    "kernelspec": {
      "name": "python3",
      "display_name": "Python 3"
    },
    "language_info": {
      "name": "python"
    }
  },
  "cells": [
    {
      "cell_type": "markdown",
      "metadata": {
        "id": "view-in-github",
        "colab_type": "text"
      },
      "source": [
        "<a href=\"https://colab.research.google.com/github/Tatyana-Averyakova/Laboratornye/blob/main/Lab2.ipynb\" target=\"_parent\"><img src=\"https://colab.research.google.com/assets/colab-badge.svg\" alt=\"Open In Colab\"/></a>"
      ]
    },
    {
      "cell_type": "markdown",
      "source": [
        "#Лабораторная работа 2: Диагностический помощник\n",
        "\n",
        "**Выполнила:** Аверьякова Татьяна\n",
        "\n",
        "**Дата:** 13.10.2025\n",
        "\n",
        "###Этот ноутбук имитирует простую диагностическую систему, сочетающую:\n",
        "- количественную оценку (балл по шкале тревоги),\n",
        "- качественный анализ текста (эмоциональные маркеры)\n",
        "\n",
        "\n",
        "**Анализ уровня тревоги по шкале Спилберга**\n",
        "\n",
        "Пользователь вводит:\n",
        "\n",
        "- свое имя (строка),\n",
        "- балл по шкале тревоги (целое число от  20 до 80).\n",
        "\n",
        "Программа должна:\n",
        "\n",
        "1. Определить уровень тревоги:\n",
        "\n",
        " - ≤ 30 → \"низкий\",\n",
        "\n",
        " - 31-44 → \"умеренный\",\n",
        "\n",
        " - ≥ 45 → \"высокий\".\n",
        "\n",
        "2. Вывести персонализированное сообщение.\n",
        "\n",
        "**Анализ текста на наличие тревожных маркеров**\n",
        "\n",
        "Пользователь вводит одно предложение.\n",
        "\n",
        "Программа проверяет, содержит ли текст ключевые слова:\n",
        "\n",
        "- \"тревога\", \"страх\", \"боюсь\", \"паника\" → тревожные маркеры\n",
        "- \"надежда\", \"спокойствие\", \"радость\" → позитивные маркеры\n",
        "\n",
        "**Выдать итоговую оценку**\n",
        "\n",
        "- Если уровень тревоги высокий ИЛИ есть тревожные маркеры без позитивных → \"Рекомендуется срочная психологическая поддержка\"\n",
        "- Если есть позитивные маркеры → \"Состояние хорошее\"\n",
        "- Иначе → \"Состояние в пределах ожидаемого. Продолжайте наблюдение.\""
      ],
      "metadata": {
        "id": "-DEq10PstKRN"
      }
    },
    {
      "cell_type": "code",
      "source": [
        "#Ввод данных\n",
        "name = input(\"Введите ваше имя: \")\n",
        "message = input(\"Как вы себя чувствуете?: \")\n",
        "alarm = int(input(\"Шкала тревоги (20-80): \"))\n",
        "\n",
        "\n",
        "print(\"\\n\")\n",
        "print(\"=\" * 20)\n",
        "print(\"Результат уровня тревоги\")\n",
        "print(\"=\" * 20)\n",
        "print(f\"Имя: {name}\")\n",
        "print(f\"Сообщение: {message}\")\n",
        "\n",
        "print(\"Анализ маркеров текста\")\n",
        "\n",
        "has_anxiety = (\n",
        "    \"тревога\" in message or\n",
        "    \"страх\" in message or\n",
        "    \"боюсь\" in message or\n",
        "    \"паника\" in message\n",
        ")\n",
        "\n",
        "has_positive = (\n",
        "    \"надежда\" in message or\n",
        "    \"спокойствие\" in message or\n",
        "    \"радость\" in message\n",
        ")\n",
        "\n",
        "if has_anxiety and not has_positive:\n",
        "  print(\"Обнаружены признаки тревоги\")\n",
        "elif has_positive and not has_anxiety:\n",
        "  print(\"Текст имеет позитивную окраску\")\n",
        "else:\n",
        "  print(\"Смешанные или нейтральные эмоции\")\n",
        "\n",
        "print(\"Анализ уровня тревоги\")\n",
        "\n",
        "if alarm <= 30:\n",
        "  alarm_level = \"низкий\"\n",
        "elif alarm >= 45:\n",
        "  alarm_level = \"высокий\"\n",
        "else:\n",
        "  alarm_level = \"умеренный\"\n",
        "\n",
        "print(f\"Уровень тревоги: {alarm} -> {alarm_level}\")\n",
        "print(\"ИТОГ\")\n",
        "\n",
        "if has_anxiety or alarm <= 30:\n",
        "  print(\"Состояние хорошее\")\n",
        "elif has_positive or alarm >=45 :\n",
        "  print(\"Рекомендуется срочная психологическая поддержка\")\n",
        "else:\n",
        "  print(\"Состояние в пределах ожидаемого. Продолжайте наблюдение\")"
      ],
      "metadata": {
        "id": "-hhHJ224zSVQ"
      },
      "execution_count": null,
      "outputs": []
    }
  ]
}