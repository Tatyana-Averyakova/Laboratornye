{
  "nbformat": 4,
  "nbformat_minor": 0,
  "metadata": {
    "colab": {
      "provenance": [],
      "authorship_tag": "ABX9TyMcJqpfiBEenwWORBN53f8p",
      "include_colab_link": true
    },
    "kernelspec": {
      "name": "python3",
      "display_name": "Python 3"
    },
    "language_info": {
      "name": "python"
    }
  },
  "cells": [
    {
      "cell_type": "markdown",
      "metadata": {
        "id": "view-in-github",
        "colab_type": "text"
      },
      "source": [
        "<a href=\"https://colab.research.google.com/github/Tatyana-Averyakova/Laboratornye/blob/main/Lab3.ipynb\" target=\"_parent\"><img src=\"https://colab.research.google.com/assets/colab-badge.svg\" alt=\"Open In Colab\"/></a>"
      ]
    },
    {
      "cell_type": "markdown",
      "source": [
        "#Лабораторная работа 3. Анализ реплик персонажей в тексте.\n",
        "\n",
        "##Тема: Списки, циклы \"for\" и \"while\", \"range\"\n",
        "\n",
        "Нужно:\n",
        "1. Создать список реплик.\n",
        "2. Добавить новую реплику.\n",
        "3. Вывести каждую **вторую** реплику.\n",
        "4. Найти **самую короткую** реплику.\n",
        "5. Посчитать, **сколько реплик начинается с буквы \"Я\"**.\n",
        "6. Вывести на печать **все реплики, в которых встречается слово \"сказать\"**."
      ],
      "metadata": {
        "id": "REB9hkUDYiAU"
      }
    },
    {
      "cell_type": "markdown",
      "source": [
        "##1. Список реплик."
      ],
      "metadata": {
        "id": "deXjWvrUk6fJ"
      }
    },
    {
      "cell_type": "code",
      "source": [
        "replicas = [\n",
        "    \"Уж не могу вам сказать!\",\n",
        "    \"Скажу тебе: во-первых, князь Григорий!\",\n",
        "    \"Верно, — сказал кто-то очень громко. — Безобразие наше ему не интересно\",\n",
        "    \"Нечего сказать, удивил мир злодейством!\",\n",
        "    \"Что скажут товарищи, когда узнают?\",\n",
        "    \"Можно было бы сказать, что я верил ему.\",\n",
        "    \"Я сейчас ей расскажу!\",\n",
        "    \"Скажи, пожалуйста, откуда ты это узнал и почему тебя это так интересует?\",\n",
        "    \"Завтра ты мне всю азбуку без ошибки скажешь.\",\n",
        "    \"Попробуйте, я прошу вас!\",\n",
        "    \"А вот при гостях скажу, что нехорошо поступил.\",\n",
        "    \"По правде сказать, нехорошее дело!\"\n",
        "    \"Я бы с вами и спорить не стал!\"\n",
        "]"
      ],
      "metadata": {
        "id": "eqW8NTsqlC5M"
      },
      "execution_count": 166,
      "outputs": []
    },
    {
      "cell_type": "markdown",
      "source": [
        "##2. Добавить новую реплику."
      ],
      "metadata": {
        "id": "2inWXUhvqMMF"
      }
    },
    {
      "cell_type": "code",
      "source": [
        "replicas.append(\"Ну, скажите, пожалуйста, что он говорит?\")"
      ],
      "metadata": {
        "id": "fn4jRihDqfwb"
      },
      "execution_count": 167,
      "outputs": []
    },
    {
      "cell_type": "markdown",
      "source": [
        "##3. Вывести каждую вторую реплику."
      ],
      "metadata": {
        "id": "rGexc3qKqx3T"
      }
    },
    {
      "cell_type": "code",
      "source": [
        "for i in range(1, len(replicas), 2):\n",
        "     print(replicas [i])"
      ],
      "metadata": {
        "id": "QYH7xaNZq5GU"
      },
      "execution_count": null,
      "outputs": []
    },
    {
      "cell_type": "markdown",
      "source": [
        "##4. Найти самую короткую реплику."
      ],
      "metadata": {
        "id": "YJWJJg9vs2jW"
      }
    },
    {
      "cell_type": "code",
      "source": [
        "shortest_replica = replicas [0]\n",
        "for replica in replicas:\n",
        "  if len(replica) < len(shortest_replica):\n",
        "    shortest_replica = replica\n",
        "print(f\"Самая короткая реплика: \", shortest_replica)"
      ],
      "metadata": {
        "id": "BTVFTwHQs9DS"
      },
      "execution_count": null,
      "outputs": []
    },
    {
      "cell_type": "markdown",
      "source": [
        "## 5. Посчитать, сколько реплик начинается с буквы \"Я\"."
      ],
      "metadata": {
        "id": "nwqwlNyH3Y5o"
      }
    },
    {
      "cell_type": "code",
      "source": [
        "count = 0\n",
        "for replica in replicas:\n",
        "    if \"Я\" in replica:\n",
        "        count += 1\n",
        "print(f\"Слово 'Я' встречается {count} раз\")"
      ],
      "metadata": {
        "id": "l10pX46-8buM"
      },
      "execution_count": null,
      "outputs": []
    },
    {
      "cell_type": "markdown",
      "source": [
        "##6. Вывести на печать все реплики, в которых встречается слово \"сказать\"."
      ],
      "metadata": {
        "id": "oStQ46l08cFA"
      }
    },
    {
      "cell_type": "code",
      "source": [
        "count = 0\n",
        "for replica in replicas:\n",
        "    if \"сказать\" in replica.lower():\n",
        "        print(replica)"
      ],
      "metadata": {
        "id": "JAv_GmTG8h0I"
      },
      "execution_count": null,
      "outputs": []
    }
  ]
}